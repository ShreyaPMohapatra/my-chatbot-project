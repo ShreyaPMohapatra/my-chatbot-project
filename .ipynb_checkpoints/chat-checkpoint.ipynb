{
 "cells": [
  {
   "cell_type": "code",
   "execution_count": 4,
   "id": "2198a633-68a0-4a64-81ff-a21bff0f67c2",
   "metadata": {},
   "outputs": [
    {
     "data": {
      "application/vnd.jupyter.widget-view+json": {
       "model_id": "5b6f592ed89b49838fc40a46885c157e",
       "version_major": 2,
       "version_minor": 0
      },
      "text/plain": [
       "Text(value='', placeholder='Type your message and press Enter')"
      ]
     },
     "metadata": {},
     "output_type": "display_data"
    },
    {
     "data": {
      "application/vnd.jupyter.widget-view+json": {
       "model_id": "668dd856e31d47478e8a039a8426b342",
       "version_major": 2,
       "version_minor": 0
      },
      "text/plain": [
       "Output()"
      ]
     },
     "metadata": {},
     "output_type": "display_data"
    }
   ],
   "source": [
    "from nltk.chat.util import Chat, reflections\n",
    "import ipywidgets as widgets\n",
    "from IPython.display import display\n",
    "import datetime\n",
    "import re\n",
    "\n",
    "# Memory store\n",
    "user_memory = {\n",
    "    \"name\": None,\n",
    "    \"mood\": None\n",
    "}\n",
    "\n",
    "# Patterns\n",
    "pairs = [\n",
    "    ['my name is (.*)', ['Nice to meet you, %1!', 'Hello %1, how can I help?']],\n",
    "    ['i am feeling (.*)', [\"Why are you feeling %1?\", \"I see, you're feeling %1.\"]],\n",
    "    ['how are you ?', ['I am just a bot, but I’m doing fine. How about you?']],\n",
    "    ['(hi|hello|hey|hola)', ['Hello there!', 'Hi!', 'Hey!']],\n",
    "    ['(.*)(location|city)?', ['I am from the cloud, but let’s say India :)']],\n",
    "    ['(.*) created you?', ['I was created by a Python programmer!']],\n",
    "    ['bye', ['Goodbye!', 'See you later!', 'Bye!']],\n",
    "    ['quit', ['Bye! Talk to you later.']]\n",
    "]\n",
    "\n",
    "class MemoryChat(Chat):\n",
    "    def respond(self, str):\n",
    "        name_match = re.match(r'.*my name is (.*)', str, re.IGNORECASE)\n",
    "        if name_match:\n",
    "            user_memory['name'] = name_match.group(1).strip().capitalize()\n",
    "\n",
    "        mood_match = re.match(r'.*i am feeling (.*)', str, re.IGNORECASE)\n",
    "        if mood_match:\n",
    "            user_memory['mood'] = mood_match.group(1).strip()\n",
    "\n",
    "        response = super().respond(str)\n",
    "        if user_memory[\"name\"]:\n",
    "            response = response.replace('%1', user_memory[\"name\"])\n",
    "        elif '%1' in response:\n",
    "            response = response.replace('%1', 'there')\n",
    "        return response\n",
    "\n",
    "chat = MemoryChat(pairs, reflections)\n",
    "chat_history = []\n",
    "\n",
    "input_box = widgets.Text(placeholder='Type your message and press Enter')\n",
    "output_box = widgets.Output()\n",
    "\n",
    "def display_message(sender, message):\n",
    "    with output_box:\n",
    "        print(f\"{sender}: {message}\")\n",
    "\n",
    "def save_chat_history():\n",
    "    filename = f\"chat_log_{datetime.datetime.now().strftime('%Y%m%d_%H%M%S')}.txt\"\n",
    "    with open(filename, \"w\") as f:\n",
    "        for speaker, msg in chat_history:\n",
    "            f.write(f\"{speaker}: {msg}\\n\")\n",
    "    with output_box:\n",
    "        print(f\"\\n[Chat history saved to '{filename}']\")\n",
    "\n",
    "def on_submit(change):\n",
    "    user_input = change['new'].strip()\n",
    "    if user_input == \"\":\n",
    "        return\n",
    "    if user_input.lower() == 'quit':\n",
    "        farewell = f\"Goodbye {user_memory['name']}!\" if user_memory['name'] else \"Goodbye!\"\n",
    "        display_message(\"Bot\", farewell)\n",
    "        chat_history.append((\"Bot\", farewell))\n",
    "        save_chat_history()\n",
    "        input_box.disabled = True\n",
    "    else:\n",
    "        response = chat.respond(user_input)\n",
    "        display_message(\"You\", user_input)\n",
    "        display_message(\"Bot\", response)\n",
    "        chat_history.append((\"You\", user_input))\n",
    "        chat_history.append((\"Bot\", response))\n",
    "    input_box.value = \"\"\n",
    "\n",
    "input_box.observe(on_submit, names='value')\n",
    "\n",
    "display(input_box, output_box)\n",
    "\n",
    "welcome = \"👋 Hello! I'm your chatbot.\"\n",
    "if user_memory[\"name\"]:\n",
    "    welcome += f\" Welcome back, {user_memory['name']}!\"\n",
    "else:\n",
    "    welcome += \" You can tell me your name by saying 'my name is ...'.\"\n",
    "welcome += \" You can also tell me how you feel. Type 'quit' to end the chat.\"\n",
    "\n",
    "display_message(\"Bot\", welcome)"
   ]
  },
  {
   "cell_type": "code",
   "execution_count": null,
   "id": "40ea7458-5eed-4fb9-b4b0-192ddd336b04",
   "metadata": {},
   "outputs": [],
   "source": []
  }
 ],
 "metadata": {
  "kernelspec": {
   "display_name": "Python [conda env:base] *",
   "language": "python",
   "name": "conda-base-py"
  },
  "language_info": {
   "codemirror_mode": {
    "name": "ipython",
    "version": 3
   },
   "file_extension": ".py",
   "mimetype": "text/x-python",
   "name": "python",
   "nbconvert_exporter": "python",
   "pygments_lexer": "ipython3",
   "version": "3.13.5"
  }
 },
 "nbformat": 4,
 "nbformat_minor": 5
}
