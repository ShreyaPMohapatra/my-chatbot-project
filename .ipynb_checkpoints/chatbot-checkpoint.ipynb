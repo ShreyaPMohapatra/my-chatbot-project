{
 "cells": [
  {
   "cell_type": "code",
   "execution_count": 42,
   "id": "a450e7f2-c14e-419b-adff-0449a733cc90",
   "metadata": {},
   "outputs": [],
   "source": [
    "#Description: This is a chatbot program"
   ]
  },
  {
   "cell_type": "code",
   "execution_count": 43,
   "id": "2198a633-68a0-4a64-81ff-a21bff0f67c2",
   "metadata": {},
   "outputs": [],
   "source": [
    "#import the library\n",
    "from nltk.chat.util import Chat, reflections\n",
    "import ipywidgets as widgets\n",
    "from IPython.display import display, clear_output\n",
    "import datetime\n",
    "import re"
   ]
  },
  {
   "cell_type": "code",
   "execution_count": 44,
   "id": "84bf3212-d70a-4309-90e8-bc99629f96d2",
   "metadata": {},
   "outputs": [],
   "source": [
    "user_memory = {\n",
    "    \"name\": None,\n",
    "    \"mood\": None\n",
    "}\n",
    "pairs = [\n",
    "    ['my name is (.*)', ['Hi %1, how can I help you?']],\n",
    "    ['(hi|hello|hey|hola)', ['Hello there!', 'Hi!', 'Hey!']],\n",
    "    ['how are you ?', ['I am fine, thank you.', 'Doing well, and you?']],\n",
    "    ['(what is your name?|who are you)', ['I am a simple chatbot built in Python!']],\n",
    "    ['(.*) in (.*) is fun', ['%1 in %2 is indeed fun!']],\n",
    "    ['(.*)(location|city)?', ['I am from the cloud, but let’s say India :)']],\n",
    "    ['(.*) created you?', ['I was created by a Python programmer!']],\n",
    "    ['(.*) weather(.*)', ['I am not a weather bot, but it might be sunny!']],\n",
    "    ['bye', ['Goodbye!', 'See you later!', 'Bye!']],\n",
    "    ['quit', ['Bye! Talk to you later.']]\n",
    "]\n",
    "class MemoryChat(Chat):\n",
    "    def respond(self, str):\n",
    "        # Check for name input\n",
    "        name_match = re.match(r'.*my name is (.*)', str, re.IGNORECASE)\n",
    "        if name_match:\n",
    "            user_memory['name'] = name_match.group(1).strip().capitalize()\n",
    "\n",
    "        # Check for mood input\n",
    "        mood_match = re.match(r'.*i am feeling (.*)', str, re.IGNORECASE)\n",
    "        if mood_match:\n",
    "            user_memory['mood'] = mood_match.group(1).strip()\n",
    "\n",
    "        # Get default response\n",
    "        response = super().respond(str)\n",
    "\n",
    "        # Personalize response if name/mood is stored\n",
    "        if user_memory[\"name\"]:\n",
    "            response = response.replace('%1', user_memory[\"name\"])\n",
    "        elif '%1' in response:\n",
    "            response = response.replace('%1', 'there')\n",
    "\n",
    "        return response"
   ]
  },
  {
   "cell_type": "code",
   "execution_count": 45,
   "id": "9acce594-8d31-4924-aa8b-7cef566e2a98",
   "metadata": {},
   "outputs": [],
   "source": [
    "chat= MemoryChat(pairs, reflections)"
   ]
  },
  {
   "cell_type": "code",
   "execution_count": 46,
   "id": "e4fbdd34-69d4-4e58-ac96-ff9278de5ba3",
   "metadata": {},
   "outputs": [],
   "source": [
    "chat_history = []"
   ]
  },
  {
   "cell_type": "code",
   "execution_count": 47,
   "id": "22b1b095-0ef2-4497-b742-6e94a269649d",
   "metadata": {},
   "outputs": [],
   "source": [
    "input_box = widgets.Text(placeholder='Type your message here...')\n",
    "output_box = widgets.Output()\n",
    "send_button = widgets.Button(description=\"Send\", button_style='success')"
   ]
  },
  {
   "cell_type": "code",
   "execution_count": 48,
   "id": "456b1fef-9491-4793-ba63-377623108801",
   "metadata": {},
   "outputs": [],
   "source": [
    "# 6. Display helper\n",
    "def display_message(sender, message):\n",
    "    with output_box:\n",
    "        print(f\"{sender}: {message}\")\n",
    "\n",
    "# 7. Save chat\n",
    "def save_chat_history():\n",
    "    filename = f\"chat_log_{datetime.datetime.now().strftime('%Y%m%d_%H%M%S')}.txt\"\n",
    "    with open(filename, \"w\") as f:\n",
    "        for speaker, msg in chat_history:\n",
    "            f.write(f\"{speaker}: {msg}\\n\")\n",
    "    with output_box:\n",
    "        print(f\"\\n[Chat history saved to '{filename}']\")\n",
    "\n",
    "def respond_to_user(input_text):\n",
    "    response = chat.respond(input_text)\n",
    "    if not response:\n",
    "        response = \"I didn't quite understand that.\"\n",
    "    return response"
   ]
  },
  {
   "cell_type": "code",
   "execution_count": 49,
   "id": "20be05c3-daf9-4117-b37f-ce9f86ef7cf7",
   "metadata": {},
   "outputs": [],
   "source": [
    "# 8. Handle input\n",
    "def on_button_click(b):\n",
    "    user_input = input_box.value\n",
    "    if user_input.strip() == \"\":\n",
    "        return\n",
    "\n",
    "    if user_input.lower() == 'quit':\n",
    "        farewell = f\"Goodbye {user_memory['name']}!\" if user_memory[\"name\"] else \"Goodbye!\"\n",
    "        display_message(\"Bot\", farewell)\n",
    "        chat_history.append((\"Bot\", farewell))\n",
    "        save_chat_history()\n",
    "        send_button.disabled = True\n",
    "        input_box.disabled = True\n",
    "    else:\n",
    "        response = chat.respond(user_input)\n",
    "        display_message(\"You\", user_input)\n",
    "        display_message(\"Bot\", response)\n",
    "        chat_history.append((\"You\", user_input))\n",
    "        chat_history.append((\"Bot\", response))\n",
    "        input_box.value = \"\""
   ]
  },
  {
   "cell_type": "code",
   "execution_count": 50,
   "id": "ff1f764c-ad09-4b6b-b465-ab1d6ad1ae15",
   "metadata": {},
   "outputs": [
    {
     "data": {
      "application/vnd.jupyter.widget-view+json": {
       "model_id": "50a4dce87c7a44f1a6c18b63084df46e",
       "version_major": 2,
       "version_minor": 0
      },
      "text/plain": [
       "Text(value='', placeholder='Type your message here...')"
      ]
     },
     "metadata": {},
     "output_type": "display_data"
    },
    {
     "data": {
      "application/vnd.jupyter.widget-view+json": {
       "model_id": "fedd9b50bd284f8eb736dc7faea01e47",
       "version_major": 2,
       "version_minor": 0
      },
      "text/plain": [
       "Button(button_style='success', description='Send', style=ButtonStyle())"
      ]
     },
     "metadata": {},
     "output_type": "display_data"
    },
    {
     "data": {
      "application/vnd.jupyter.widget-view+json": {
       "model_id": "ef79267fd9394cf99221fb7a73be0efd",
       "version_major": 2,
       "version_minor": 0
      },
      "text/plain": [
       "Output()"
      ]
     },
     "metadata": {},
     "output_type": "display_data"
    }
   ],
   "source": [
    "# 9. Link button click\n",
    "send_button.on_click(on_button_click)\n",
    "\n",
    "# 10. Display GUI\n",
    "display(input_box, send_button, output_box)\n",
    "# 11. Smart welcome message\n",
    "welcome_message = \"👋 Hello! I'm your chatbot.\"\n",
    "if user_memory['name']:\n",
    "    welcome_message += f\" Welcome back, {user_memory['name']}!\"\n",
    "else:\n",
    "    welcome_message += \" You can tell me your name by saying 'my name is ...'.\"\n",
    "\n",
    "welcome_message += \" You can also share how you feel. Type 'quit' to end the chat.\"\n",
    "display_message(\"Bot\", welcome_message)"
   ]
  },
  {
   "cell_type": "code",
   "execution_count": null,
   "id": "c1065c4b-ba32-47a6-b8e3-c249a4b5ead8",
   "metadata": {},
   "outputs": [],
   "source": []
  },
  {
   "cell_type": "code",
   "execution_count": null,
   "id": "f1ea5a5f-a716-4d87-9f39-c9fd85d06889",
   "metadata": {},
   "outputs": [],
   "source": []
  },
  {
   "cell_type": "code",
   "execution_count": null,
   "id": "e342cd12-bed3-452c-97d8-953cde242b42",
   "metadata": {},
   "outputs": [],
   "source": []
  },
  {
   "cell_type": "code",
   "execution_count": null,
   "id": "40ea7458-5eed-4fb9-b4b0-192ddd336b04",
   "metadata": {},
   "outputs": [],
   "source": []
  }
 ],
 "metadata": {
  "kernelspec": {
   "display_name": "Python [conda env:base] *",
   "language": "python",
   "name": "conda-base-py"
  },
  "language_info": {
   "codemirror_mode": {
    "name": "ipython",
    "version": 3
   },
   "file_extension": ".py",
   "mimetype": "text/x-python",
   "name": "python",
   "nbconvert_exporter": "python",
   "pygments_lexer": "ipython3",
   "version": "3.13.5"
  }
 },
 "nbformat": 4,
 "nbformat_minor": 5
}
